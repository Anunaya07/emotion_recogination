{
 "cells": [
  {
   "cell_type": "markdown",
   "id": "d837c289",
   "metadata": {},
   "source": [
    "# Real time video demo for Face Emotion Recognition"
   ]
  },
  {
   "cell_type": "code",
   "execution_count": 3,
   "id": "c03f313e",
   "metadata": {},
   "outputs": [
    {
     "name": "stdout",
     "output_type": "stream",
     "text": [
      "I can't detect your beautiful face! Sorry:-(!\n"
     ]
    }
   ],
   "source": [
    "import cv2  # importing opencv\n",
    "import numpy as np #importing numpy \n",
    "from keras.preprocessing.image import img_to_array\n",
    "\n",
    "from deepface import DeepFace # import DeepFace\n",
    "faceCascade= cv2.CascadeClassifier(cv2.data.haarcascades + 'haarcascade_frontalface_default.xml') #haarcascade used for face recognisation\n",
    "\n",
    "cap = cv2.VideoCapture(1) #for turning on camera \n",
    "     \n",
    "    # in case the camera encounter any error\n",
    "if not cap.isOpened():\n",
    "        cap =cv2.VideoCapture(0)\n",
    "if not cap.isOpened():\n",
    "        raise IOError(\"Cannot open webcam\")\n",
    "\n",
    "    \n",
    "while True:\n",
    "            ret,frame = cap.read() #this will  read one image from the video\n",
    "            #print(frame)\n",
    "             #analying the emotions\n",
    "            gray= cv2.cvtColor(frame, cv2.COLOR_BGR2GRAY)  #conversion to gray\n",
    "            faces = faceCascade.detectMultiScale(gray) #face demensions\n",
    "            try:\n",
    "                for (x,y,w,h) in faces:\n",
    "                    cv2.rectangle(frame,(x,y),(x+w, y+h), (0,255,0), 2) #drawing rectangle around face\n",
    "                    result = DeepFace.analyze(frame, actions = ['emotion'])\n",
    "                    label= result['dominant_emotion']\n",
    "                    label_position=(x,y-20)\n",
    "                    font = cv2.FONT_HERSHEY_SIMPLEX #chosing font\n",
    "                    cv2.putText(frame,label,label_position, font, 1, (0,0,255),2) #writing text\n",
    "                cv2.imshow('Emotion Detection', frame) #final show\n",
    "                if cv2.waitKey(1) & 0xFF == ord('q'): #press q to quit\n",
    "                      break\n",
    "            except:\n",
    "                print(\"I can't detect your beautiful face! Sorry:-(!\")\n",
    "                break\n",
    "cap.release() #releasing the camera\n",
    "cv2.destroyAllWindows() #closes all the wimdows opened by the programme\n"
   ]
  },
  {
   "cell_type": "code",
   "execution_count": null,
   "id": "d0855066",
   "metadata": {},
   "outputs": [],
   "source": []
  },
  {
   "cell_type": "code",
   "execution_count": null,
   "id": "cd2423c6",
   "metadata": {},
   "outputs": [],
   "source": []
  }
 ],
 "metadata": {
  "kernelspec": {
   "display_name": "Python 3",
   "language": "python",
   "name": "python3"
  },
  "language_info": {
   "codemirror_mode": {
    "name": "ipython",
    "version": 3
   },
   "file_extension": ".py",
   "mimetype": "text/x-python",
   "name": "python",
   "nbconvert_exporter": "python",
   "pygments_lexer": "ipython3",
   "version": "3.8.8"
  }
 },
 "nbformat": 4,
 "nbformat_minor": 5
}
