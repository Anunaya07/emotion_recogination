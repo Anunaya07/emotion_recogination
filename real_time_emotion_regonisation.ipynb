{
 "cells": [
  {
   "cell_type": "markdown",
   "id": "d837c289",
   "metadata": {},
   "source": [
    "# Real time video demo for Face Emotion Recognition"
   ]
  },
  {
   "cell_type": "code",
   "execution_count": 1,
   "id": "c03f313e",
   "metadata": {},
   "outputs": [],
   "source": [
    "try: \n",
    "    import cv2  # importing opencv\n",
    "    import numpy as np #importing numpy \n",
    "\n",
    "    from deepface import DeepFace # import DeepFace\n",
    "    faceCascade= cv2.CascadeClassifier(cv2.data.haarcascades + 'haarcascade_frontalface_default.xml') #haarcascade used for face recognisation\n",
    "\n",
    "    cap = cv2.VideoCapture(1) #for turning on camera \n",
    "     \n",
    "    # in case the camera encounter any error\n",
    "    if not cap.isOpened():\n",
    "        cap =cv2.VideoCapture(0)\n",
    "    if not cap.isOpened():\n",
    "        raise IOError(\"Cannot open webcam\")\n",
    "\n",
    "    \n",
    "    while True:\n",
    "            ret,frame = cap.read() #this will  read one image from the video\n",
    "            #print(frame)\n",
    "            result = DeepFace.analyze(frame, actions = ['emotion']) #analying the emotions\n",
    "            gray= cv2.cvtColor(frame, cv2.COLOR_BGR2GRAY)  #conversion to gray\n",
    "            gray = np.array(gray,dtype='uint8')  #detectMultiScale accepts only uint8 so converting values to uint8\n",
    "            \n",
    "            faces = faceCascade.detectMultiScale(gray,1.3,5,0) #face demensions\n",
    "            \n",
    "            for (x,y,w,h) in faces:\n",
    "                cv2.rectangle(frame,(x,y),(x+w, y+h), (0,255,0), 2) #drawing rectangle around face\n",
    "            \n",
    "            font = cv2.FONT_HERSHEY_SIMPLEX #chosing font\n",
    "            cv2.putText(frame,result['dominant_emotion'], (50,50), font, 3, (0,0,255),2,cv2.LINE_4) #writing text\n",
    "            cv2.imshow('Demo video', frame) #final show\n",
    "            if cv2.waitKey(2) & 0xFF == ord('q'): #press q to quit\n",
    "                break\n",
    "    cap.release() #releasing the camera\n",
    "    cv2.destroyAllWindows() #closes all the wimdows opened by the programme\n",
    "except:\n",
    "    pass"
   ]
  },
  {
   "cell_type": "code",
   "execution_count": null,
   "id": "d0855066",
   "metadata": {},
   "outputs": [],
   "source": []
  }
 ],
 "metadata": {
  "kernelspec": {
   "display_name": "Python 3",
   "language": "python",
   "name": "python3"
  },
  "language_info": {
   "codemirror_mode": {
    "name": "ipython",
    "version": 3
   },
   "file_extension": ".py",
   "mimetype": "text/x-python",
   "name": "python",
   "nbconvert_exporter": "python",
   "pygments_lexer": "ipython3",
   "version": "3.8.8"
  }
 },
 "nbformat": 4,
 "nbformat_minor": 5
}
